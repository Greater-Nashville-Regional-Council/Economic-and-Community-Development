{
 "cells": [
  {
   "cell_type": "code",
   "execution_count": 1,
   "id": "f7b5fd44",
   "metadata": {},
   "outputs": [],
   "source": [
    "import pandas as pd\n",
    "import numpy as np\n",
    "import matplotlib.pyplot as plt\n",
    "from functools import reduce\n",
    "pd.set_option('display.max_columns', None)\n",
    "pd.set_option('display.max_rows', None)\n",
    "pd.set_option('display.width', 150)\n",
    "from functools import reduce\n",
    "pd.options.mode.chained_assignment = None  # default='warn'\n",
    "from warnings import simplefilter\n",
    "simplefilter(action=\"ignore\", category=pd.errors.PerformanceWarning)\n",
    "import sys\n",
    "sys.path.append(\"../../Functions and Dictionaries/\") # Adds higher directory to python modules path\n",
    "import geodict\n",
    "namestocommon = geodict.namestocommon\n",
    "geotogeoid = geodict.geotogeoid\n",
    "tofullcensus = geodict.tofullcensus\n",
    "import sqlite3 as sq"
   ]
  },
  {
   "cell_type": "code",
   "execution_count": 2,
   "id": "8e7e498d",
   "metadata": {},
   "outputs": [],
   "source": [
    "conn = sq.connect('../../Data-Pipelines/Outputs/CensusBureau.db')\n",
    "#PL2020\n",
    "sql_query = pd.read_sql('SELECT * FROM [CensusBureau_PL_2020]', conn)\n",
    "PL2020 = pd.DataFrame(sql_query)\n",
    "PL2020.drop(columns = 'Source', inplace = True)\n",
    "#ACS52021\n",
    "sql_query = pd.read_sql('SELECT * FROM [CensusBureau_ACS5_2021_1]', conn)\n",
    "ACS52021_1 = pd.DataFrame(sql_query)\n",
    "sql_query = pd.read_sql('SELECT * FROM [CensusBureau_ACS5_2021_2]', conn)\n",
    "ACS52021_2 = pd.DataFrame(sql_query)\n",
    "ACS52021 = ACS52021_1.merge(ACS52021_2, on = ['NAME', 'GEO_ID', 'Source'])\n",
    "ACS52021.drop(columns = 'Source', inplace = True)\n",
    "dfs2021 = [ACS52021, PL2020]\n",
    "twothousandtwentyone = reduce(lambda  left,right: pd.merge(left,right,on=['NAME', 'GEO_ID'], how='outer'), dfs2021)"
   ]
  },
  {
   "cell_type": "code",
   "execution_count": 4,
   "id": "490a2337",
   "metadata": {},
   "outputs": [],
   "source": [
    "geos = ['Wilson County', 'DeKalb County', 'Smith County', 'Trousdale County']\n",
    "data = twothousandtwentyone.reset_index().set_index('NAME').transpose()\n",
    "data = data.rename(columns = namestocommon)\n",
    "data = data[geos]\n",
    "data = data.transpose().reset_index()\n",
    "data = data.drop(columns = 'index')"
   ]
  },
  {
   "cell_type": "code",
   "execution_count": 5,
   "id": "92b44cc3",
   "metadata": {},
   "outputs": [],
   "source": [
    "cols = ['NAME', 'Average Household Size'\n",
    "        \n",
    "        \n",
    "       ]\n",
    "data = data[cols]"
   ]
  },
  {
   "cell_type": "code",
   "execution_count": 6,
   "id": "be0f68f4",
   "metadata": {},
   "outputs": [
    {
     "data": {
      "text/html": [
       "<div>\n",
       "<style scoped>\n",
       "    .dataframe tbody tr th:only-of-type {\n",
       "        vertical-align: middle;\n",
       "    }\n",
       "\n",
       "    .dataframe tbody tr th {\n",
       "        vertical-align: top;\n",
       "    }\n",
       "\n",
       "    .dataframe thead th {\n",
       "        text-align: right;\n",
       "    }\n",
       "</style>\n",
       "<table border=\"1\" class=\"dataframe\">\n",
       "  <thead>\n",
       "    <tr style=\"text-align: right;\">\n",
       "      <th></th>\n",
       "      <th>NAME</th>\n",
       "      <th>Average Household Size</th>\n",
       "    </tr>\n",
       "  </thead>\n",
       "  <tbody>\n",
       "    <tr>\n",
       "      <th>0</th>\n",
       "      <td>Wilson County</td>\n",
       "      <td>2.7</td>\n",
       "    </tr>\n",
       "    <tr>\n",
       "      <th>1</th>\n",
       "      <td>DeKalb County</td>\n",
       "      <td>2.44</td>\n",
       "    </tr>\n",
       "    <tr>\n",
       "      <th>2</th>\n",
       "      <td>Smith County</td>\n",
       "      <td>2.63</td>\n",
       "    </tr>\n",
       "    <tr>\n",
       "      <th>3</th>\n",
       "      <td>Trousdale County</td>\n",
       "      <td>2.81</td>\n",
       "    </tr>\n",
       "  </tbody>\n",
       "</table>\n",
       "</div>"
      ],
      "text/plain": [
       "               NAME Average Household Size\n",
       "0     Wilson County                    2.7\n",
       "1     DeKalb County                   2.44\n",
       "2      Smith County                   2.63\n",
       "3  Trousdale County                   2.81"
      ]
     },
     "execution_count": 6,
     "metadata": {},
     "output_type": "execute_result"
    }
   ],
   "source": [
    "data"
   ]
  },
  {
   "cell_type": "code",
   "execution_count": null,
   "id": "a7081032",
   "metadata": {},
   "outputs": [],
   "source": []
  }
 ],
 "metadata": {
  "kernelspec": {
   "display_name": "Python 3 (ipykernel)",
   "language": "python",
   "name": "python3"
  },
  "language_info": {
   "codemirror_mode": {
    "name": "ipython",
    "version": 3
   },
   "file_extension": ".py",
   "mimetype": "text/x-python",
   "name": "python",
   "nbconvert_exporter": "python",
   "pygments_lexer": "ipython3",
   "version": "3.8.5"
  }
 },
 "nbformat": 4,
 "nbformat_minor": 5
}
