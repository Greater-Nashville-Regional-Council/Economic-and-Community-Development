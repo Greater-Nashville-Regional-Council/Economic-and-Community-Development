{
 "cells": [
  {
   "cell_type": "code",
   "execution_count": 4,
   "id": "0632846e",
   "metadata": {},
   "outputs": [],
   "source": [
    "#imports\n",
    "import pandas as pd\n",
    "import numpy as np\n",
    "import matplotlib as mpl\n",
    "from matplotlib import rcParams\n",
    "import matplotlib.pyplot as plt\n",
    "import matplotlib.ticker as ticker\n",
    "from matplotlib import cycler\n",
    "from matplotlib.ticker import StrMethodFormatter\n",
    "from matplotlib.axis import Axis\n",
    "from matplotlib.patches import FancyBboxPatch\n",
    "from matplotlib.font_manager import FontProperties\n",
    "import sqlite3 as sq\n",
    "from functools import reduce\n",
    "import datetime\n",
    "#settings\n",
    "pd.set_option('display.max_columns', None)\n",
    "pd.set_option('display.max_rows', None)\n",
    "pd.set_option('display.width', 150)\n",
    "pd.options.mode.chained_assignment = None  # default='warn'\n",
    "from warnings import simplefilter\n",
    "simplefilter(action=\"ignore\", category=pd.errors.PerformanceWarning)\n",
    "import sys\n",
    "sys.path.append(\"../../../../Functions and Dictionaries\") # Adds higher directory to python modules path\n",
    "import geodict\n",
    "namestocommon = geodict.namestocommon\n",
    "import matplotlib.dates as mdates\n",
    "import matplotlib.cbook as cbook"
   ]
  },
  {
   "cell_type": "code",
   "execution_count": 5,
   "id": "e2fd1c0b",
   "metadata": {},
   "outputs": [],
   "source": [
    "#functions\n",
    "def percentchange(x, y):\n",
    "    try:\n",
    "        return ((x - y)*100/y)\n",
    "    except ZeroDivisionError:\n",
    "        return 0\n",
    "def realchange(x, y):\n",
    "    return x-y\n",
    "#calculate real and percent change between all columns for all possible time frames\n",
    "def calculate_changes(df, columns, time_frames, years):\n",
    "    for column in columns:\n",
    "        for time_frame in time_frames:\n",
    "            start_year, end_year = time_frame.split('-')\n",
    "            df[f'{column} % Change', 'None', f'{time_frame}'] = percentchange(df[(column, int(end_year), 'None')], df[(column, int(start_year), 'None')])\n",
    "            df[f'{column} Change', 'None', f'{time_frame}'] = (df[(column, int(end_year), 'None')] - df[(column, int(start_year), 'None')])\n",
    "\n",
    "    return df\n",
    "#generate all possible time frames from a list of years\n",
    "def generate_time_frames(years):\n",
    "    time_frames = []\n",
    "    for i in range(len(years)-1):\n",
    "        for j in range(i+1, len(years)):\n",
    "            time_frames.append(f\"{years[i]}-{years[j]}\")\n",
    "    return time_frames"
   ]
  },
  {
   "cell_type": "code",
   "execution_count": null,
   "id": "2a69046a",
   "metadata": {},
   "outputs": [],
   "source": []
  }
 ],
 "metadata": {
  "kernelspec": {
   "display_name": "Python 3 (ipykernel)",
   "language": "python",
   "name": "python3"
  },
  "language_info": {
   "codemirror_mode": {
    "name": "ipython",
    "version": 3
   },
   "file_extension": ".py",
   "mimetype": "text/x-python",
   "name": "python",
   "nbconvert_exporter": "python",
   "pygments_lexer": "ipython3",
   "version": "3.11.4"
  }
 },
 "nbformat": 4,
 "nbformat_minor": 5
}
