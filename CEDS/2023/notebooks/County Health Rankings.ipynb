{
 "cells": [
  {
   "cell_type": "code",
   "execution_count": 2,
   "id": "4bbaee12",
   "metadata": {},
   "outputs": [],
   "source": [
    "import pandas as pd\n",
    "import numpy as np\n",
    "import matplotlib.pyplot as plt\n",
    "from functools import reduce\n",
    "pd.set_option('display.max_columns', None)\n",
    "pd.set_option('display.max_rows', None)\n",
    "pd.set_option('display.width', 150)\n",
    "from functools import reduce\n",
    "pd.options.mode.chained_assignment = None  # default='warn'\n",
    "from warnings import simplefilter\n",
    "simplefilter(action=\"ignore\", category=pd.errors.PerformanceWarning)\n",
    "import sys\n",
    "sys.path.append(\"../../../../Functions and Dictionaries/\") # Adds higher directory to python modules path\n",
    "import geodict\n",
    "namestocommon = geodict.namestocommon\n",
    "geotogeoid = geodict.geotogeoid\n",
    "tofullcensus = geodict.tofullcensus\n",
    "import sqlite3 as sq"
   ]
  },
  {
   "cell_type": "code",
   "execution_count": 5,
   "id": "e19e7071",
   "metadata": {},
   "outputs": [],
   "source": [
    "conn = sq.connect('../../../../Data-Pipelines/Outputs/Dem_Transpo_Housing_Collection.db')\n",
    "sql_query = pd.read_sql('SELECT * FROM [UWisconsin_CountyHealthRankings_20192023]', conn)\n",
    "data = pd.DataFrame(sql_query)\n",
    "thelist = ['Cheatham', 'Davidson', 'Dickson', 'Houston', 'Humphreys', 'Montgomery', 'Robertson', 'Rutherford', \n",
    "          'Stewart', 'Sumner', 'Trousdale', 'Williamson', 'Wilson']\n",
    "data = data.loc[data['NAME'].isin(thelist)]\n",
    "data = data[['NAME', 'Year', 'Health Outcomes Ranking', 'Health Factors Ranking']]"
   ]
  },
  {
   "cell_type": "code",
   "execution_count": 6,
   "id": "919fa54f",
   "metadata": {},
   "outputs": [
    {
     "data": {
      "text/html": [
       "<div>\n",
       "<style scoped>\n",
       "    .dataframe tbody tr th:only-of-type {\n",
       "        vertical-align: middle;\n",
       "    }\n",
       "\n",
       "    .dataframe tbody tr th {\n",
       "        vertical-align: top;\n",
       "    }\n",
       "\n",
       "    .dataframe thead th {\n",
       "        text-align: right;\n",
       "    }\n",
       "</style>\n",
       "<table border=\"1\" class=\"dataframe\">\n",
       "  <thead>\n",
       "    <tr style=\"text-align: right;\">\n",
       "      <th></th>\n",
       "      <th>NAME</th>\n",
       "      <th>Year</th>\n",
       "      <th>Health Outcomes Ranking</th>\n",
       "      <th>Health Factors Ranking</th>\n",
       "    </tr>\n",
       "  </thead>\n",
       "  <tbody>\n",
       "    <tr>\n",
       "      <th>10</th>\n",
       "      <td>Cheatham</td>\n",
       "      <td>2022</td>\n",
       "      <td>31</td>\n",
       "      <td>13</td>\n",
       "    </tr>\n",
       "    <tr>\n",
       "      <th>18</th>\n",
       "      <td>Davidson</td>\n",
       "      <td>2022</td>\n",
       "      <td>10</td>\n",
       "      <td>16</td>\n",
       "    </tr>\n",
       "    <tr>\n",
       "      <th>21</th>\n",
       "      <td>Dickson</td>\n",
       "      <td>2022</td>\n",
       "      <td>24</td>\n",
       "      <td>20</td>\n",
       "    </tr>\n",
       "    <tr>\n",
       "      <th>41</th>\n",
       "      <td>Houston</td>\n",
       "      <td>2022</td>\n",
       "      <td>75</td>\n",
       "      <td>63</td>\n",
       "    </tr>\n",
       "    <tr>\n",
       "      <th>42</th>\n",
       "      <td>Humphreys</td>\n",
       "      <td>2022</td>\n",
       "      <td>39</td>\n",
       "      <td>34</td>\n",
       "    </tr>\n",
       "  </tbody>\n",
       "</table>\n",
       "</div>"
      ],
      "text/plain": [
       "         NAME  Year Health Outcomes Ranking Health Factors Ranking\n",
       "10   Cheatham  2022                      31                     13\n",
       "18   Davidson  2022                      10                     16\n",
       "21    Dickson  2022                      24                     20\n",
       "41    Houston  2022                      75                     63\n",
       "42  Humphreys  2022                      39                     34"
      ]
     },
     "execution_count": 6,
     "metadata": {},
     "output_type": "execute_result"
    }
   ],
   "source": [
    "data.head()"
   ]
  },
  {
   "cell_type": "code",
   "execution_count": 10,
   "id": "ba5abc70",
   "metadata": {},
   "outputs": [],
   "source": [
    "df1 = data[['NAME', 'Year', 'Health Outcomes Ranking']]\n",
    "df2 = data[['NAME', 'Year', 'Health Factors Ranking']]"
   ]
  },
  {
   "cell_type": "code",
   "execution_count": null,
   "id": "b316bde1",
   "metadata": {},
   "outputs": [],
   "source": []
  },
  {
   "cell_type": "code",
   "execution_count": 7,
   "id": "316e54af",
   "metadata": {},
   "outputs": [],
   "source": [
    "data.to_csv('../data/countyhealthrankings.csv', index = False)"
   ]
  },
  {
   "cell_type": "code",
   "execution_count": null,
   "id": "c9a74558",
   "metadata": {},
   "outputs": [],
   "source": []
  }
 ],
 "metadata": {
  "kernelspec": {
   "display_name": "Python 3 (ipykernel)",
   "language": "python",
   "name": "python3"
  },
  "language_info": {
   "codemirror_mode": {
    "name": "ipython",
    "version": 3
   },
   "file_extension": ".py",
   "mimetype": "text/x-python",
   "name": "python",
   "nbconvert_exporter": "python",
   "pygments_lexer": "ipython3",
   "version": "3.11.4"
  }
 },
 "nbformat": 4,
 "nbformat_minor": 5
}
